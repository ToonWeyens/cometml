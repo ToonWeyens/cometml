{
  "cells": [
    {
      "cell_type": "markdown",
      "metadata": {
        "colab_type": "text",
        "id": "view-in-github"
      },
      "source": [
        "<a href=\"https://colab.research.google.com/github/ToonWeyens/cometml/blob/main/Comet_Quickstart.ipynb\" target=\"_parent\"><img src=\"https://colab.research.google.com/assets/colab-badge.svg\" alt=\"Open In Colab\"/></a>"
      ]
    },
    {
      "cell_type": "markdown",
      "metadata": {
        "id": "ag4xh64ZTHih"
      },
      "source": [
        "# Installing Comet"
      ]
    },
    {
      "cell_type": "code",
      "execution_count": 1,
      "metadata": {
        "id": "03o0cfSzSwkG"
      },
      "outputs": [],
      "source": [
        "# !pip install comet_ml --quiet"
      ]
    },
    {
      "cell_type": "markdown",
      "metadata": {
        "id": "zsqPglGzHh8Z"
      },
      "source": [
        "# Initialize Comet"
      ]
    },
    {
      "cell_type": "code",
      "execution_count": 2,
      "metadata": {
        "id": "nuSC8ppOHmXX"
      },
      "outputs": [
        {
          "name": "stdout",
          "output_type": "stream",
          "text": [
            "Please enter your Comet API key from https://www.comet-ml.com/api/my/settings/\n",
            "(api key may not show as you type)\n"
          ]
        },
        {
          "name": "stderr",
          "output_type": "stream",
          "text": [
            "COMET INFO: Comet API key is valid\n",
            "COMET INFO: Comet API key saved in /Users/toon.weyens/.comet.config\n"
          ]
        }
      ],
      "source": [
        "import comet_ml\n",
        "comet_ml.init(project_name='comet-examples-quickstart')"
      ]
    },
    {
      "cell_type": "markdown",
      "metadata": {
        "id": "xgwFcUruTFP0"
      },
      "source": [
        "# Creating an Experiment"
      ]
    },
    {
      "cell_type": "code",
      "execution_count": 3,
      "metadata": {
        "id": "zwhPghpDS0OQ"
      },
      "outputs": [
        {
          "name": "stderr",
          "output_type": "stream",
          "text": [
            "COMET WARNING: As you are running in a Jupyter environment, you will need to call `experiment.end()` when finished to ensure all metrics and code are logged before exiting.\n",
            "COMET INFO: Experiment is live on comet.ml https://www.comet.com/toonweyens/comet-examples-quickstart/24442d8a3cba427e8cb3ca55ad00032b\n",
            "\n"
          ]
        }
      ],
      "source": [
        "experiment = comet_ml.Experiment()"
      ]
    },
    {
      "cell_type": "markdown",
      "metadata": {
        "id": "-qVfViluTOPH"
      },
      "source": [
        "# Logging a Metric"
      ]
    },
    {
      "cell_type": "code",
      "execution_count": null,
      "metadata": {
        "id": "C50klpFpTRHM"
      },
      "outputs": [],
      "source": [
        "acc = 0.65\n",
        "experiment.log_metric('acc', acc)"
      ]
    },
    {
      "cell_type": "markdown",
      "metadata": {
        "id": "MDgvaKNITp1W"
      },
      "source": [
        "# Logging Multiple Metrics"
      ]
    },
    {
      "cell_type": "code",
      "execution_count": 4,
      "metadata": {
        "id": "-77fV1AUTr5a"
      },
      "outputs": [],
      "source": [
        "metrics = {'acc': 0.65, 'loss': 0.01}\n",
        "experiment.log_metrics(metrics)"
      ]
    },
    {
      "cell_type": "markdown",
      "metadata": {
        "id": "fgkKl3cSUjYE"
      },
      "source": [
        "# Logging Metrics Over Time"
      ]
    },
    {
      "cell_type": "code",
      "execution_count": 5,
      "metadata": {
        "id": "0eYy4A46Unye"
      },
      "outputs": [],
      "source": [
        "for idx, value in enumerate(range(0, 10)):\n",
        "    metrics = {\"train/loss\": value / 20, \"train/acc\": value / 10}\n",
        "    experiment.log_metrics(metrics, step=idx)"
      ]
    },
    {
      "cell_type": "markdown",
      "metadata": {
        "id": "oZEoKlHJTz4I"
      },
      "source": [
        "## Adding a Prefix to logged Metrics"
      ]
    },
    {
      "cell_type": "code",
      "execution_count": 6,
      "metadata": {
        "id": "SrbOa75bT2j9"
      },
      "outputs": [],
      "source": [
        "prefix = 'eval'\n",
        "metrics = {'acc': 0.65, 'loss': 0.01}\n",
        "experiment.log_metrics(metrics, prefix=prefix)"
      ]
    },
    {
      "cell_type": "markdown",
      "metadata": {
        "id": "m4jA0ayDTdOw"
      },
      "source": [
        "# Logging a Parameter"
      ]
    },
    {
      "cell_type": "code",
      "execution_count": 7,
      "metadata": {
        "id": "AotDf4oQTeqx"
      },
      "outputs": [],
      "source": [
        "batch_size = 32\n",
        "experiment.log_parameter('batch_size', batch_size)"
      ]
    },
    {
      "cell_type": "markdown",
      "metadata": {
        "id": "loLEbvKtUIMv"
      },
      "source": [
        "# Logging Multiple Parameters"
      ]
    },
    {
      "cell_type": "code",
      "execution_count": 8,
      "metadata": {
        "id": "jKvPtcsJUJ4n"
      },
      "outputs": [],
      "source": [
        "parameters = {'batch_size': 32, 'num_samples': 10000}\n",
        "experiment.log_parameters(parameters)"
      ]
    },
    {
      "cell_type": "markdown",
      "metadata": {
        "id": "Xx4gmdWvV29X"
      },
      "source": [
        "# Logging Parameters Over Time"
      ]
    },
    {
      "cell_type": "code",
      "execution_count": 9,
      "metadata": {
        "id": "C92fAjKQV563"
      },
      "outputs": [],
      "source": [
        "for idx, x in enumerate(range(0, 5)):\n",
        "    lr = x / 1000\n",
        "    experiment.log_parameter(\"learning_rate\", lr, step=idx)"
      ]
    },
    {
      "cell_type": "markdown",
      "metadata": {
        "id": "fpUCt3vWUa7o"
      },
      "source": [
        "## Adding a Prefix to logged Parameters"
      ]
    },
    {
      "cell_type": "code",
      "execution_count": 10,
      "metadata": {
        "id": "UjN7gvD_UYBi"
      },
      "outputs": [],
      "source": [
        "prefix = 'train'\n",
        "parameters = {'batch_size': 32, 'learning_rate': 0.0001}\n",
        "experiment.log_parameters(parameters, prefix=prefix)"
      ]
    },
    {
      "cell_type": "markdown",
      "metadata": {
        "id": "OT4ToJSyc_d7"
      },
      "source": [
        "# End the Experiment"
      ]
    },
    {
      "cell_type": "code",
      "execution_count": 11,
      "metadata": {
        "id": "UPFFYtZtdArM"
      },
      "outputs": [
        {
          "name": "stderr",
          "output_type": "stream",
          "text": [
            "COMET INFO: ---------------------------\n",
            "COMET INFO: Comet.ml Experiment Summary\n",
            "COMET INFO: ---------------------------\n",
            "COMET INFO:   Data:\n",
            "COMET INFO:     display_summary_level : 1\n",
            "COMET INFO:     url                   : https://www.comet.com/toonweyens/comet-examples-quickstart/24442d8a3cba427e8cb3ca55ad00032b\n",
            "COMET INFO:   Metrics [count] (min, max):\n",
            "COMET INFO:     acc             : 0.65\n",
            "COMET INFO:     eval_acc        : 0.65\n",
            "COMET INFO:     eval_loss       : 0.01\n",
            "COMET INFO:     loss            : 0.01\n",
            "COMET INFO:     train/acc [10]  : (0.0, 0.9)\n",
            "COMET INFO:     train/loss [10] : (0.0, 0.45)\n",
            "COMET INFO:   Parameters:\n",
            "COMET INFO:     batch_size          : 32\n",
            "COMET INFO:     learning_rate       : 0.004\n",
            "COMET INFO:     num_samples         : 10000\n",
            "COMET INFO:     train_batch_size    : 32\n",
            "COMET INFO:     train_learning_rate : 0.0001\n",
            "COMET INFO:   Uploads:\n",
            "COMET INFO:     environment details : 1\n",
            "COMET INFO:     filename            : 1\n",
            "COMET INFO:     git metadata        : 1\n",
            "COMET INFO:     installed packages  : 1\n",
            "COMET INFO:     notebook            : 1\n",
            "COMET INFO:     source_code         : 1\n",
            "COMET INFO: ---------------------------\n",
            "COMET INFO: Uploading metrics, params, and assets to Comet before program termination (may take several seconds)\n",
            "COMET INFO: The Python SDK has 3600 seconds to finish before aborting...\n"
          ]
        }
      ],
      "source": [
        "experiment.end()"
      ]
    },
    {
      "cell_type": "code",
      "execution_count": null,
      "metadata": {},
      "outputs": [],
      "source": []
    }
  ],
  "metadata": {
    "colab": {
      "collapsed_sections": [],
      "include_colab_link": true,
      "provenance": []
    },
    "kernelspec": {
      "display_name": "Python 3.9.13 ('comet-xykBya_K')",
      "language": "python",
      "name": "python3"
    },
    "language_info": {
      "codemirror_mode": {
        "name": "ipython",
        "version": 3
      },
      "file_extension": ".py",
      "mimetype": "text/x-python",
      "name": "python",
      "nbconvert_exporter": "python",
      "pygments_lexer": "ipython3",
      "version": "3.9.13"
    },
    "vscode": {
      "interpreter": {
        "hash": "6d6d842fb6e54b9408236d63269e7fd7cf2e5749bf572172d303f17aeebef6f9"
      }
    }
  },
  "nbformat": 4,
  "nbformat_minor": 0
}
