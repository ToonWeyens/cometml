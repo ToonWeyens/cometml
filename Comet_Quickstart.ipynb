{
  "nbformat": 4,
  "nbformat_minor": 0,
  "metadata": {
    "colab": {
      "provenance": [],
      "collapsed_sections": [],
      "include_colab_link": true
    },
    "kernelspec": {
      "name": "python3",
      "display_name": "Python 3"
    },
    "language_info": {
      "name": "python"
    }
  },
  "cells": [
    {
      "cell_type": "markdown",
      "metadata": {
        "id": "view-in-github",
        "colab_type": "text"
      },
      "source": [
        "<a href=\"https://colab.research.google.com/github/ToonWeyens/cometml/blob/main/Comet_Quickstart.ipynb\" target=\"_parent\"><img src=\"https://colab.research.google.com/assets/colab-badge.svg\" alt=\"Open In Colab\"/></a>"
      ]
    },
    {
      "cell_type": "markdown",
      "metadata": {
        "id": "ag4xh64ZTHih"
      },
      "source": [
        "# Installing Comet"
      ]
    },
    {
      "cell_type": "code",
      "metadata": {
        "id": "03o0cfSzSwkG"
      },
      "source": [
        "!pip install comet_ml --quiet"
      ],
      "execution_count": null,
      "outputs": []
    },
    {
      "cell_type": "markdown",
      "source": [
        "# Initialize Comet"
      ],
      "metadata": {
        "id": "zsqPglGzHh8Z"
      }
    },
    {
      "cell_type": "code",
      "source": [
        "import comet_ml\n",
        "comet_ml.init(project_name='comet-examples-quickstart')"
      ],
      "metadata": {
        "id": "nuSC8ppOHmXX"
      },
      "execution_count": null,
      "outputs": []
    },
    {
      "cell_type": "markdown",
      "metadata": {
        "id": "xgwFcUruTFP0"
      },
      "source": [
        "# Creating an Experiment"
      ]
    },
    {
      "cell_type": "code",
      "metadata": {
        "id": "zwhPghpDS0OQ"
      },
      "source": [
        "experiment = comet_ml.Experiment()"
      ],
      "execution_count": null,
      "outputs": []
    },
    {
      "cell_type": "markdown",
      "metadata": {
        "id": "-qVfViluTOPH"
      },
      "source": [
        "# Logging a Metric"
      ]
    },
    {
      "cell_type": "code",
      "metadata": {
        "id": "C50klpFpTRHM"
      },
      "source": [
        "acc = 0.65\n",
        "experiment.log_metric('acc', acc)"
      ],
      "execution_count": null,
      "outputs": []
    },
    {
      "cell_type": "markdown",
      "metadata": {
        "id": "MDgvaKNITp1W"
      },
      "source": [
        "# Logging Multiple Metrics"
      ]
    },
    {
      "cell_type": "code",
      "metadata": {
        "id": "-77fV1AUTr5a"
      },
      "source": [
        "metrics = {'acc': 0.65, 'loss': 0.01}\n",
        "experiment.log_metrics(metrics)"
      ],
      "execution_count": null,
      "outputs": []
    },
    {
      "cell_type": "markdown",
      "metadata": {
        "id": "fgkKl3cSUjYE"
      },
      "source": [
        "# Logging Metrics Over Time"
      ]
    },
    {
      "cell_type": "code",
      "metadata": {
        "id": "0eYy4A46Unye"
      },
      "source": [
        "for idx, value in enumerate(range(0, 10)):\n",
        "    metrics = {\"train/loss\": value / 20, \"train/acc\": value / 10}\n",
        "    experiment.log_metrics(metrics, step=idx)"
      ],
      "execution_count": null,
      "outputs": []
    },
    {
      "cell_type": "markdown",
      "metadata": {
        "id": "oZEoKlHJTz4I"
      },
      "source": [
        "## Adding a Prefix to logged Metrics"
      ]
    },
    {
      "cell_type": "code",
      "metadata": {
        "id": "SrbOa75bT2j9"
      },
      "source": [
        "prefix = 'eval'\n",
        "metrics = {'acc': 0.65, 'loss': 0.01}\n",
        "experiment.log_metrics(metrics, prefix=prefix)"
      ],
      "execution_count": null,
      "outputs": []
    },
    {
      "cell_type": "markdown",
      "metadata": {
        "id": "m4jA0ayDTdOw"
      },
      "source": [
        "# Logging a Parameter"
      ]
    },
    {
      "cell_type": "code",
      "metadata": {
        "id": "AotDf4oQTeqx"
      },
      "source": [
        "batch_size = 32\n",
        "experiment.log_parameter('batch_size', batch_size)"
      ],
      "execution_count": null,
      "outputs": []
    },
    {
      "cell_type": "markdown",
      "metadata": {
        "id": "loLEbvKtUIMv"
      },
      "source": [
        "# Logging Multiple Parameters"
      ]
    },
    {
      "cell_type": "code",
      "metadata": {
        "id": "jKvPtcsJUJ4n"
      },
      "source": [
        "parameters = {'batch_size': 32, 'num_samples': 10000}\n",
        "experiment.log_parameters(parameters)"
      ],
      "execution_count": null,
      "outputs": []
    },
    {
      "cell_type": "markdown",
      "metadata": {
        "id": "Xx4gmdWvV29X"
      },
      "source": [
        "# Logging Parameters Over Time"
      ]
    },
    {
      "cell_type": "code",
      "metadata": {
        "id": "C92fAjKQV563"
      },
      "source": [
        "for idx, x in enumerate(range(0, 5)):\n",
        "    lr = x / 1000\n",
        "    experiment.log_parameter(\"learning_rate\", lr, step=idx)"
      ],
      "execution_count": null,
      "outputs": []
    },
    {
      "cell_type": "markdown",
      "metadata": {
        "id": "fpUCt3vWUa7o"
      },
      "source": [
        "## Adding a Prefix to logged Parameters"
      ]
    },
    {
      "cell_type": "code",
      "metadata": {
        "id": "UjN7gvD_UYBi"
      },
      "source": [
        "prefix = 'train'\n",
        "parameters = {'batch_size': 32, 'learning_rate': 0.0001}\n",
        "experiment.log_parameters(parameters, prefix=prefix)"
      ],
      "execution_count": null,
      "outputs": []
    },
    {
      "cell_type": "markdown",
      "source": [
        "# End the Experiment"
      ],
      "metadata": {
        "id": "OT4ToJSyc_d7"
      }
    },
    {
      "cell_type": "code",
      "source": [
        "experiment.end()"
      ],
      "metadata": {
        "id": "UPFFYtZtdArM"
      },
      "execution_count": null,
      "outputs": []
    }
  ]
}