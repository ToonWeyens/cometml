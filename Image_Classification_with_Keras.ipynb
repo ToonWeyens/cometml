{
  "nbformat": 4,
  "nbformat_minor": 0,
  "metadata": {
    "colab": {
      "provenance": [],
      "collapsed_sections": [],
      "include_colab_link": true
    },
    "kernelspec": {
      "name": "python3",
      "display_name": "Python 3"
    },
    "language_info": {
      "name": "python"
    }
  },
  "cells": [
    {
      "cell_type": "markdown",
      "metadata": {
        "id": "view-in-github",
        "colab_type": "text"
      },
      "source": [
        "<a href=\"https://colab.research.google.com/github/ToonWeyens/cometml/blob/main/Image_Classification_with_Keras.ipynb\" target=\"_parent\"><img src=\"https://colab.research.google.com/assets/colab-badge.svg\" alt=\"Open In Colab\"/></a>"
      ]
    },
    {
      "cell_type": "markdown",
      "metadata": {
        "id": "ZYchV5RWwdv5"
      },
      "source": [
        "# Install Comet"
      ]
    },
    {
      "cell_type": "code",
      "metadata": {
        "id": "DJnmqphuY2eI"
      },
      "source": [
        "!pip install comet_ml --quiet"
      ],
      "execution_count": null,
      "outputs": []
    },
    {
      "cell_type": "markdown",
      "metadata": {
        "id": "crOcPHobwhGL"
      },
      "source": [
        "# Import Comet"
      ]
    },
    {
      "cell_type": "code",
      "metadata": {
        "id": "HNQRM0U3caiY",
        "colab": {
          "base_uri": "https://localhost:8080/"
        },
        "outputId": "22c6224a-5f44-437d-c411-1342e83fcd6d"
      },
      "source": [
        "import comet_ml\n",
        "comet_ml.init(project_name='keras-image-classification')"
      ],
      "execution_count": null,
      "outputs": [
        {
          "output_type": "stream",
          "name": "stderr",
          "text": [
            "COMET INFO: Comet API key is valid\n"
          ]
        }
      ]
    },
    {
      "cell_type": "markdown",
      "metadata": {
        "id": "cgqwGSwtzVWD"
      },
      "source": [
        "# Import Dependencies"
      ]
    },
    {
      "cell_type": "code",
      "metadata": {
        "id": "e-5rRYaUw5AF"
      },
      "source": [
        "from tensorflow import keras\n",
        "from tensorflow.keras.datasets import mnist\n",
        "from tensorflow.keras.models import Sequential\n",
        "from tensorflow.keras.layers import Dense, Dropout\n",
        "from tensorflow.keras.callbacks import EarlyStopping"
      ],
      "execution_count": null,
      "outputs": []
    },
    {
      "cell_type": "markdown",
      "metadata": {
        "id": "3T8Qg7GYwwM2"
      },
      "source": [
        "# Create an Experiment"
      ]
    },
    {
      "cell_type": "code",
      "metadata": {
        "id": "m-OWU2ynwp2u",
        "colab": {
          "base_uri": "https://localhost:8080/"
        },
        "outputId": "7ff547f4-8e5b-4369-b0f8-ad6abedcf972"
      },
      "source": [
        "#create an experiment with your api key\n",
        "experiment = comet_ml.Experiment()"
      ],
      "execution_count": null,
      "outputs": [
        {
          "output_type": "stream",
          "name": "stderr",
          "text": [
            "COMET WARNING: As you are running in a Jupyter environment, you will need to call `experiment.end()` when finished to ensure all metrics and code are logged before exiting.\n",
            "COMET INFO: Couldn't find a Git repository in '/content' and lookings in parents. You can override where Comet is looking for a Git Patch by setting the configuration `COMET_GIT_DIRECTORY`\n",
            "COMET INFO: Experiment is live on comet.ml https://www.comet.ml/team-comet-ml/keras-image-classification/208e9262fa564a3f868618ec8a208d94\n",
            "\n"
          ]
        }
      ]
    },
    {
      "cell_type": "markdown",
      "metadata": {
        "id": "TJuThf1TxP_G"
      },
      "source": [
        "# Load Data"
      ]
    },
    {
      "cell_type": "code",
      "metadata": {
        "id": "YFbozHiJxTax",
        "colab": {
          "base_uri": "https://localhost:8080/"
        },
        "outputId": "a04a97fe-dada-4047-df08-50487331d1e2"
      },
      "source": [
        "# the data, shuffled and split between train and test sets\n",
        "(x_train, y_train), (x_test, y_test) = mnist.load_data()\n",
        "\n",
        "x_train = x_train.reshape(60000, 784)\n",
        "x_test = x_test.reshape(10000, 784)\n",
        "\n",
        "x_train = x_train.astype('float32')\n",
        "x_test = x_test.astype('float32')\n",
        "\n",
        "x_train /= 255\n",
        "x_test /= 255\n",
        "\n",
        "print(x_train.shape[0], 'train samples')\n",
        "print(x_test.shape[0], 'test samples')"
      ],
      "execution_count": null,
      "outputs": [
        {
          "output_type": "stream",
          "name": "stdout",
          "text": [
            "60000 train samples\n",
            "10000 test samples\n"
          ]
        }
      ]
    },
    {
      "cell_type": "markdown",
      "metadata": {
        "id": "dBDRqvzfxCHX"
      },
      "source": [
        "# Define Training Parameters"
      ]
    },
    {
      "cell_type": "code",
      "metadata": {
        "id": "xsZ8x-ntxCkV"
      },
      "source": [
        "# these will all get logged\n",
        "params = {\n",
        "    \"batch_size\": 128,\n",
        "    \"epochs\": 2,\n",
        "    \"layer1_type\": \"Dense\",\n",
        "    \"layer1_num_nodes\": 64,\n",
        "    \"layer1_activation\": 'relu',\n",
        "    \"optimizer\": 'adam',\n",
        "}\n",
        "\n",
        "num_classes = 10\n",
        "\n",
        "# convert class vectors to binary class matrices\n",
        "y_train = keras.utils.to_categorical(y_train, num_classes)\n",
        "y_test = keras.utils.to_categorical(y_test, num_classes)\n",
        "\n"
      ],
      "execution_count": null,
      "outputs": []
    },
    {
      "cell_type": "markdown",
      "metadata": {
        "id": "npaVMlZPxify"
      },
      "source": [
        "# Define Model"
      ]
    },
    {
      "cell_type": "code",
      "metadata": {
        "id": "flH9VHctxjSB",
        "colab": {
          "base_uri": "https://localhost:8080/"
        },
        "outputId": "e47010c0-1484-44c4-811b-c1d14df33977"
      },
      "source": [
        "model = Sequential()\n",
        "model.add(Dense(64, activation=\"relu\", input_shape=(784,)))\n",
        "model.add(Dense(num_classes, activation=\"softmax\"))\n",
        "\n",
        "# print model.summary() to preserve automatically in `Output` tab\n",
        "print(model.summary())\n",
        "\n",
        "model.compile(\n",
        "    loss=\"categorical_crossentropy\", optimizer=params['optimizer'], metrics=[\"accuracy\"]\n",
        ")"
      ],
      "execution_count": null,
      "outputs": [
        {
          "output_type": "stream",
          "name": "stdout",
          "text": [
            "Model: \"sequential_2\"\n",
            "_________________________________________________________________\n",
            "Layer (type)                 Output Shape              Param #   \n",
            "=================================================================\n",
            "dense_4 (Dense)              (None, 64)                50240     \n",
            "_________________________________________________________________\n",
            "dense_5 (Dense)              (None, 10)                650       \n",
            "=================================================================\n",
            "Total params: 50,890\n",
            "Trainable params: 50,890\n",
            "Non-trainable params: 0\n",
            "_________________________________________________________________\n",
            "None\n"
          ]
        }
      ]
    },
    {
      "cell_type": "markdown",
      "metadata": {
        "id": "U7U0MwO7yQ5g"
      },
      "source": [
        "# Log Experiment Parameters"
      ]
    },
    {
      "cell_type": "code",
      "metadata": {
        "id": "wtXRSEccyTEO"
      },
      "source": [
        "experiment.log_parameters(params)\n",
        "experiment.log_dataset_hash(x_train)  # creates and logs a hash of your data"
      ],
      "execution_count": null,
      "outputs": []
    },
    {
      "cell_type": "markdown",
      "metadata": {
        "id": "c3jExnbxxoav"
      },
      "source": [
        "# Log Training"
      ]
    },
    {
      "cell_type": "code",
      "metadata": {
        "id": "Y8DNdezRxpng",
        "colab": {
          "base_uri": "https://localhost:8080/"
        },
        "outputId": "5723c063-3fef-498b-863a-6eda3f9ffb36"
      },
      "source": [
        "# will log metrics with the prefix 'train_'\n",
        "model.fit(\n",
        "    x_train,\n",
        "    y_train,\n",
        "    batch_size=params['batch_size'],\n",
        "    epochs=params['epochs'],\n",
        "    verbose=1,\n",
        "    validation_data=(x_test, y_test),\n",
        ")"
      ],
      "execution_count": null,
      "outputs": [
        {
          "output_type": "stream",
          "name": "stdout",
          "text": [
            "Epoch 1/2\n",
            "469/469 [==============================] - 2s 4ms/step - loss: 0.4220 - accuracy: 0.8840 - val_loss: 0.2295 - val_accuracy: 0.9332\n",
            "Epoch 2/2\n",
            "469/469 [==============================] - 2s 3ms/step - loss: 0.2049 - accuracy: 0.9420 - val_loss: 0.1753 - val_accuracy: 0.9481\n"
          ]
        },
        {
          "output_type": "execute_result",
          "data": {
            "text/plain": [
              "<keras.callbacks.History at 0x7f65aa318110>"
            ]
          },
          "metadata": {},
          "execution_count": 37
        }
      ]
    },
    {
      "cell_type": "markdown",
      "metadata": {
        "id": "FSOLXEonyXoG"
      },
      "source": [
        "# Log Evaluation"
      ]
    },
    {
      "cell_type": "markdown",
      "metadata": {
        "id": "o5t36SlJ7evE"
      },
      "source": [
        "## Logging Evaluation Metrics"
      ]
    },
    {
      "cell_type": "code",
      "metadata": {
        "id": "DwJRmFH8yYqI",
        "colab": {
          "base_uri": "https://localhost:8080/"
        },
        "outputId": "cc2a12e6-b9a5-405e-d16e-74d90a7aa55e"
      },
      "source": [
        "loss, accuracy = model.evaluate(x_test, y_test)\n",
        "metrics = {\"loss\": loss, \"accuracy\": accuracy}\n",
        "with experiment.test():\n",
        "  experiment.log_metrics(metrics)"
      ],
      "execution_count": null,
      "outputs": [
        {
          "output_type": "stream",
          "name": "stdout",
          "text": [
            "313/313 [==============================] - 0s 1ms/step - loss: 0.1753 - accuracy: 0.9481\n"
          ]
        }
      ]
    },
    {
      "cell_type": "markdown",
      "metadata": {
        "id": "L9q92OsE7g5X"
      },
      "source": [
        "## Logging the Confusion Matrix and Images "
      ]
    },
    {
      "cell_type": "markdown",
      "metadata": {
        "id": "K2KvVn3pF5m7"
      },
      "source": [
        "Comet gives you the option to log Images with the `experiment.log_image` method. We're going to use this method along with our Confusion Matrix so that we can log samples from our dataset and identify misclassified images in the UI.   "
      ]
    },
    {
      "cell_type": "code",
      "metadata": {
        "id": "jWpEX1gz8gNX"
      },
      "source": [
        "predictions = model.predict(x_test)"
      ],
      "execution_count": null,
      "outputs": []
    },
    {
      "cell_type": "code",
      "metadata": {
        "colab": {
          "base_uri": "https://localhost:8080/"
        },
        "id": "h1hA_J0B7kNi",
        "outputId": "7e81d246-b60b-4bd1-e3f2-b4008f4a3f69"
      },
      "source": [
        "# Logs the image corresponding to the model prediction \n",
        "def index_to_example(index):\n",
        "    image_array = x_test[index].reshape(28, 28)\n",
        "    image_name = \"confusion-matrix-%05d.png\" % index\n",
        "    results = experiment.log_image(image_array, name=image_name)\n",
        "    # Return sample, assetId (index is added automatically)\n",
        "    return {\"sample\": image_name, \"assetId\": results[\"imageId\"]}\n",
        "\n",
        "LABELS = [f\"class_{i}\" for i in range(10)]\n",
        "\n",
        "experiment.log_confusion_matrix(\n",
        "    y_test[:100],\n",
        "    predictions[:100],\n",
        "    labels=LABELS,\n",
        "    index_to_example_function=index_to_example,\n",
        "    title=\"Confusion Matrix: Evaluation\",\n",
        "    file_name=\"confusion-matrix-eval.json\",\n",
        ")"
      ],
      "execution_count": null,
      "outputs": [
        {
          "output_type": "execute_result",
          "data": {
            "text/plain": [
              "{'api': 'https://www.comet.ml/api/rest/v2/experiment/asset/get-asset?assetId=06d2a2369fe04380921bb63eb73bb8fc&experimentKey=208e9262fa564a3f868618ec8a208d94',\n",
              " 'assetId': '06d2a2369fe04380921bb63eb73bb8fc',\n",
              " 'web': 'https://www.comet.ml/api/asset/download?assetId=06d2a2369fe04380921bb63eb73bb8fc&experimentKey=208e9262fa564a3f868618ec8a208d94'}"
            ]
          },
          "metadata": {},
          "execution_count": 40
        }
      ]
    },
    {
      "cell_type": "markdown",
      "metadata": {
        "id": "gGKVXqyDy3eA"
      },
      "source": [
        "# Ending an Experiment"
      ]
    },
    {
      "cell_type": "code",
      "metadata": {
        "id": "z_5zd8Pby2-b",
        "colab": {
          "base_uri": "https://localhost:8080/"
        },
        "outputId": "8b3addb2-716e-4178-f42c-379f0ad6a55d"
      },
      "source": [
        "experiment.end()"
      ],
      "execution_count": null,
      "outputs": [
        {
          "output_type": "stream",
          "name": "stderr",
          "text": [
            "COMET INFO: ---------------------------\n",
            "COMET INFO: Comet.ml Experiment Summary\n",
            "COMET INFO: ---------------------------\n",
            "COMET INFO:   Data:\n",
            "COMET INFO:     display_summary_level : 1\n",
            "COMET INFO:     url                   : https://www.comet.ml/team-comet-ml/keras-image-classification/208e9262fa564a3f868618ec8a208d94\n",
            "COMET INFO:   Metrics [count] (min, max):\n",
            "COMET INFO:     accuracy [2]                 : (0.8839666843414307, 0.9420166611671448)\n",
            "COMET INFO:     batch_accuracy [94]          : (0.1015625, 0.9418383836746216)\n",
            "COMET INFO:     batch_loss [94]              : (0.20554016530513763, 2.3517816066741943)\n",
            "COMET INFO:     epoch_duration [2]           : (1.5461168570000154, 2.1004652270003135)\n",
            "COMET INFO:     loss [2]                     : (0.20493067800998688, 0.42200857400894165)\n",
            "COMET INFO:     test_accuracy                : 0.9480999708175659\n",
            "COMET INFO:     test_loss                    : 0.17532573640346527\n",
            "COMET INFO:     val_accuracy [2]             : (0.9332000017166138, 0.9480999708175659)\n",
            "COMET INFO:     val_loss [2]                 : (0.17532581090927124, 0.22948893904685974)\n",
            "COMET INFO:     validate_batch_accuracy [16] : (0.9112215638160706, 0.9765625)\n",
            "COMET INFO:     validate_batch_loss [16]     : (0.11047278344631195, 0.2993171811103821)\n",
            "COMET INFO:   Others:\n",
            "COMET INFO:     trainable_params : 50890\n",
            "COMET INFO:   Parameters:\n",
            "COMET INFO:     Adam_amsgrad       : False\n",
            "COMET INFO:     Adam_beta_1        : 0.9\n",
            "COMET INFO:     Adam_beta_2        : 0.999\n",
            "COMET INFO:     Adam_decay         : 0.0\n",
            "COMET INFO:     Adam_epsilon       : 1e-07\n",
            "COMET INFO:     Adam_learning_rate : 0.001\n",
            "COMET INFO:     Adam_name          : Adam\n",
            "COMET INFO:     Optimizer          : Adam\n",
            "COMET INFO:     batch_size         : 128\n",
            "COMET INFO:     epochs             : 2\n",
            "COMET INFO:     layer1_activation  : relu\n",
            "COMET INFO:     layer1_num_nodes   : 64\n",
            "COMET INFO:     layer1_type        : Dense\n",
            "COMET INFO:     optimizer          : adam\n",
            "COMET INFO:     steps              : 469\n",
            "COMET INFO:   Uploads:\n",
            "COMET INFO:     confusion-matrix    : 1\n",
            "COMET INFO:     environment details : 1\n",
            "COMET INFO:     filename            : 1\n",
            "COMET INFO:     images              : 100\n",
            "COMET INFO:     installed packages  : 1\n",
            "COMET INFO:     model graph         : 1\n",
            "COMET INFO:     notebook            : 1\n",
            "COMET INFO:     os packages         : 1\n",
            "COMET INFO:     source_code         : 1\n",
            "COMET INFO: ---------------------------\n",
            "COMET INFO: Uploading 1 metrics, params and output messages\n",
            "COMET INFO: Waiting for completion of the file uploads (may take several seconds)\n",
            "COMET INFO: The Python SDK has 10800 seconds to finish before aborting...\n",
            "COMET INFO: All files uploaded, waiting for confirmation they have been all received\n"
          ]
        }
      ]
    }
  ]
}