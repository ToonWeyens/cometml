{
  "cells": [
    {
      "cell_type": "markdown",
      "metadata": {
        "colab_type": "text",
        "id": "view-in-github"
      },
      "source": [
        "<a href=\"https://colab.research.google.com/github/ToonWeyens/cometml/blob/main/Image_Classification_with_Keras.ipynb\" target=\"_parent\"><img src=\"https://colab.research.google.com/assets/colab-badge.svg\" alt=\"Open In Colab\"/></a>"
      ]
    },
    {
      "cell_type": "markdown",
      "metadata": {
        "id": "ZYchV5RWwdv5"
      },
      "source": [
        "# Install Comet"
      ]
    },
    {
      "cell_type": "code",
      "execution_count": null,
      "metadata": {
        "id": "DJnmqphuY2eI"
      },
      "outputs": [],
      "source": [
        "# !pip install comet_ml --quiet"
      ]
    },
    {
      "cell_type": "markdown",
      "metadata": {
        "id": "crOcPHobwhGL"
      },
      "source": [
        "# Import Comet"
      ]
    },
    {
      "cell_type": "code",
      "execution_count": 1,
      "metadata": {
        "colab": {
          "base_uri": "https://localhost:8080/"
        },
        "id": "HNQRM0U3caiY",
        "outputId": "22c6224a-5f44-437d-c411-1342e83fcd6d"
      },
      "outputs": [
        {
          "name": "stderr",
          "output_type": "stream",
          "text": [
            "COMET INFO: Comet API key is valid\n"
          ]
        }
      ],
      "source": [
        "import comet_ml\n",
        "comet_ml.init(project_name='keras-image-classification')"
      ]
    },
    {
      "cell_type": "markdown",
      "metadata": {
        "id": "cgqwGSwtzVWD"
      },
      "source": [
        "# Import Dependencies"
      ]
    },
    {
      "cell_type": "code",
      "execution_count": 2,
      "metadata": {
        "id": "e-5rRYaUw5AF"
      },
      "outputs": [],
      "source": [
        "from tensorflow import keras\n",
        "from tensorflow.keras.datasets import mnist\n",
        "from tensorflow.keras.models import Sequential\n",
        "from tensorflow.keras.layers import Dense, Dropout\n",
        "from tensorflow.keras.callbacks import EarlyStopping"
      ]
    },
    {
      "cell_type": "markdown",
      "metadata": {
        "id": "3T8Qg7GYwwM2"
      },
      "source": [
        "# Create an Experiment"
      ]
    },
    {
      "cell_type": "code",
      "execution_count": 3,
      "metadata": {
        "colab": {
          "base_uri": "https://localhost:8080/"
        },
        "id": "m-OWU2ynwp2u",
        "outputId": "7ff547f4-8e5b-4369-b0f8-ad6abedcf972"
      },
      "outputs": [
        {
          "name": "stderr",
          "output_type": "stream",
          "text": [
            "COMET WARNING: As you are running in a Jupyter environment, you will need to call `experiment.end()` when finished to ensure all metrics and code are logged before exiting.\n",
            "COMET INFO: Experiment is live on comet.ml https://www.comet.com/toonweyens/keras-image-classification/65dae46a1e2242dd9edfd24b4f4d4306\n",
            "\n"
          ]
        }
      ],
      "source": [
        "#create an experiment with your api key\n",
        "experiment = comet_ml.Experiment(api_key=\"sqALCFsmSwyAhS0zhRFeZdL7j\")"
      ]
    },
    {
      "cell_type": "markdown",
      "metadata": {
        "id": "TJuThf1TxP_G"
      },
      "source": [
        "# Load Data"
      ]
    },
    {
      "cell_type": "code",
      "execution_count": 4,
      "metadata": {
        "colab": {
          "base_uri": "https://localhost:8080/"
        },
        "id": "YFbozHiJxTax",
        "outputId": "a04a97fe-dada-4047-df08-50487331d1e2"
      },
      "outputs": [
        {
          "name": "stdout",
          "output_type": "stream",
          "text": [
            "60000 train samples\n",
            "10000 test samples\n"
          ]
        }
      ],
      "source": [
        "# the data, shuffled and split between train and test sets\n",
        "(x_train, y_train), (x_test, y_test) = mnist.load_data()\n",
        "\n",
        "x_train = x_train.reshape(60000, 784)\n",
        "x_test = x_test.reshape(10000, 784)\n",
        "\n",
        "x_train = x_train.astype('float32')\n",
        "x_test = x_test.astype('float32')\n",
        "\n",
        "x_train /= 255\n",
        "x_test /= 255\n",
        "\n",
        "print(x_train.shape[0], 'train samples')\n",
        "print(x_test.shape[0], 'test samples')"
      ]
    },
    {
      "cell_type": "markdown",
      "metadata": {
        "id": "dBDRqvzfxCHX"
      },
      "source": [
        "# Define Training Parameters"
      ]
    },
    {
      "cell_type": "code",
      "execution_count": 5,
      "metadata": {
        "id": "xsZ8x-ntxCkV"
      },
      "outputs": [],
      "source": [
        "# these will all get logged\n",
        "params = {\n",
        "    \"batch_size\": 128,\n",
        "    \"epochs\": 2,\n",
        "    \"layer1_type\": \"Dense\",\n",
        "    \"layer1_num_nodes\": 64,\n",
        "    \"layer1_activation\": 'relu',\n",
        "    \"optimizer\": 'adam',\n",
        "}\n",
        "\n",
        "num_classes = 10\n",
        "\n",
        "# convert class vectors to binary class matrices\n",
        "y_train = keras.utils.to_categorical(y_train, num_classes)\n",
        "y_test = keras.utils.to_categorical(y_test, num_classes)\n",
        "\n"
      ]
    },
    {
      "cell_type": "markdown",
      "metadata": {
        "id": "npaVMlZPxify"
      },
      "source": [
        "# Define Model"
      ]
    },
    {
      "cell_type": "code",
      "execution_count": 6,
      "metadata": {
        "colab": {
          "base_uri": "https://localhost:8080/"
        },
        "id": "flH9VHctxjSB",
        "outputId": "e47010c0-1484-44c4-811b-c1d14df33977"
      },
      "outputs": [
        {
          "name": "stdout",
          "output_type": "stream",
          "text": [
            "Model: \"sequential\"\n",
            "_________________________________________________________________\n",
            " Layer (type)                Output Shape              Param #   \n",
            "=================================================================\n",
            " dense (Dense)               (None, 64)                50240     \n",
            "                                                                 \n",
            " dense_1 (Dense)             (None, 10)                650       \n",
            "                                                                 \n",
            "=================================================================\n",
            "Total params: 50,890\n",
            "Trainable params: 50,890\n",
            "Non-trainable params: 0\n",
            "_________________________________________________________________\n",
            "None\n"
          ]
        },
        {
          "name": "stderr",
          "output_type": "stream",
          "text": [
            "2022-09-05 19:53:32.066478: I tensorflow/core/platform/cpu_feature_guard.cc:193] This TensorFlow binary is optimized with oneAPI Deep Neural Network Library (oneDNN) to use the following CPU instructions in performance-critical operations:  AVX2 AVX512F AVX512_VNNI FMA\n",
            "To enable them in other operations, rebuild TensorFlow with the appropriate compiler flags.\n"
          ]
        }
      ],
      "source": [
        "model = Sequential()\n",
        "model.add(Dense(64, activation=\"relu\", input_shape=(784,)))\n",
        "model.add(Dense(num_classes, activation=\"softmax\"))\n",
        "\n",
        "# print model.summary() to preserve automatically in `Output` tab\n",
        "print(model.summary())\n",
        "\n",
        "model.compile(\n",
        "    loss=\"categorical_crossentropy\", optimizer=params['optimizer'], metrics=[\"accuracy\"]\n",
        ")"
      ]
    },
    {
      "cell_type": "markdown",
      "metadata": {
        "id": "U7U0MwO7yQ5g"
      },
      "source": [
        "# Log Experiment Parameters"
      ]
    },
    {
      "cell_type": "code",
      "execution_count": 7,
      "metadata": {
        "id": "wtXRSEccyTEO"
      },
      "outputs": [],
      "source": [
        "experiment.log_parameters(params)\n",
        "experiment.log_dataset_hash(x_train)  # creates and logs a hash of your data"
      ]
    },
    {
      "cell_type": "markdown",
      "metadata": {
        "id": "c3jExnbxxoav"
      },
      "source": [
        "# Log Training"
      ]
    },
    {
      "cell_type": "code",
      "execution_count": 8,
      "metadata": {
        "colab": {
          "base_uri": "https://localhost:8080/"
        },
        "id": "Y8DNdezRxpng",
        "outputId": "5723c063-3fef-498b-863a-6eda3f9ffb36"
      },
      "outputs": [
        {
          "name": "stderr",
          "output_type": "stream",
          "text": [
            "COMET INFO: Ignoring automatic log_parameter('verbose') because 'keras:verbose' is in COMET_LOGGING_PARAMETERS_IGNORE\n"
          ]
        },
        {
          "name": "stdout",
          "output_type": "stream",
          "text": [
            "Epoch 1/2\n",
            "469/469 [==============================] - 2s 3ms/step - loss: 0.4269 - accuracy: 0.8826 - val_loss: 0.2450 - val_accuracy: 0.9309\n",
            "Epoch 2/2\n",
            "469/469 [==============================] - 1s 3ms/step - loss: 0.2085 - accuracy: 0.9405 - val_loss: 0.1742 - val_accuracy: 0.9483\n"
          ]
        },
        {
          "data": {
            "text/plain": [
              "<keras.callbacks.History at 0x127f4b0d0>"
            ]
          },
          "execution_count": 8,
          "metadata": {},
          "output_type": "execute_result"
        }
      ],
      "source": [
        "# will log metrics with the prefix 'train_'\n",
        "model.fit(\n",
        "    x_train,\n",
        "    y_train,\n",
        "    batch_size=params['batch_size'],\n",
        "    epochs=params['epochs'],\n",
        "    verbose=1,\n",
        "    validation_data=(x_test, y_test),\n",
        ")"
      ]
    },
    {
      "cell_type": "markdown",
      "metadata": {
        "id": "FSOLXEonyXoG"
      },
      "source": [
        "# Log Evaluation"
      ]
    },
    {
      "cell_type": "markdown",
      "metadata": {
        "id": "o5t36SlJ7evE"
      },
      "source": [
        "## Logging Evaluation Metrics"
      ]
    },
    {
      "cell_type": "code",
      "execution_count": 9,
      "metadata": {
        "colab": {
          "base_uri": "https://localhost:8080/"
        },
        "id": "DwJRmFH8yYqI",
        "outputId": "cc2a12e6-b9a5-405e-d16e-74d90a7aa55e"
      },
      "outputs": [
        {
          "name": "stdout",
          "output_type": "stream",
          "text": [
            "313/313 [==============================] - 0s 1ms/step - loss: 0.1742 - accuracy: 0.9483\n"
          ]
        }
      ],
      "source": [
        "loss, accuracy = model.evaluate(x_test, y_test)\n",
        "metrics = {\"loss\": loss, \"accuracy\": accuracy}\n",
        "with experiment.test():\n",
        "  experiment.log_metrics(metrics)"
      ]
    },
    {
      "cell_type": "markdown",
      "metadata": {
        "id": "L9q92OsE7g5X"
      },
      "source": [
        "## Logging the Confusion Matrix and Images "
      ]
    },
    {
      "cell_type": "markdown",
      "metadata": {
        "id": "K2KvVn3pF5m7"
      },
      "source": [
        "Comet gives you the option to log Images with the `experiment.log_image` method. We're going to use this method along with our Confusion Matrix so that we can log samples from our dataset and identify misclassified images in the UI.   "
      ]
    },
    {
      "cell_type": "code",
      "execution_count": 10,
      "metadata": {
        "id": "jWpEX1gz8gNX"
      },
      "outputs": [
        {
          "name": "stdout",
          "output_type": "stream",
          "text": [
            "313/313 [==============================] - 0s 1ms/step\n"
          ]
        }
      ],
      "source": [
        "predictions = model.predict(x_test)"
      ]
    },
    {
      "cell_type": "code",
      "execution_count": 12,
      "metadata": {
        "colab": {
          "base_uri": "https://localhost:8080/"
        },
        "id": "h1hA_J0B7kNi",
        "outputId": "7e81d246-b60b-4bd1-e3f2-b4008f4a3f69"
      },
      "outputs": [
        {
          "data": {
            "text/plain": [
              "{'web': 'https://www.comet.com/api/asset/download?assetId=a7fef9ec250f4fea90040e056c93a4ef&experimentKey=65dae46a1e2242dd9edfd24b4f4d4306',\n",
              " 'api': 'https://www.comet.com/api/rest/v2/experiment/asset/get-asset?assetId=a7fef9ec250f4fea90040e056c93a4ef&experimentKey=65dae46a1e2242dd9edfd24b4f4d4306',\n",
              " 'assetId': 'a7fef9ec250f4fea90040e056c93a4ef'}"
            ]
          },
          "execution_count": 12,
          "metadata": {},
          "output_type": "execute_result"
        }
      ],
      "source": [
        "# Logs the image corresponding to the model prediction \n",
        "def index_to_example(index):\n",
        "    image_array = x_test[index].reshape(28, 28)\n",
        "    image_name = \"confusion-matrix-%05d.png\" % index\n",
        "    results = experiment.log_image(image_array, name=image_name)\n",
        "    # Return sample, assetId (index is added automatically)\n",
        "    return {\"sample\": image_name, \"assetId\": results[\"imageId\"]}\n",
        "\n",
        "LABELS = [f\"class_{i}\" for i in range(10)]\n",
        "\n",
        "experiment.log_confusion_matrix(\n",
        "    y_test[:100],\n",
        "    predictions[:100],\n",
        "    labels=LABELS,\n",
        "    index_to_example_function=index_to_example,\n",
        "    title=\"Confusion Matrix: Evaluation\",\n",
        "    file_name=\"confusion-matrix-eval.json\",\n",
        ")"
      ]
    },
    {
      "cell_type": "markdown",
      "metadata": {
        "id": "gGKVXqyDy3eA"
      },
      "source": [
        "# Ending an Experiment"
      ]
    },
    {
      "cell_type": "code",
      "execution_count": 13,
      "metadata": {
        "colab": {
          "base_uri": "https://localhost:8080/"
        },
        "id": "z_5zd8Pby2-b",
        "outputId": "8b3addb2-716e-4178-f42c-379f0ad6a55d"
      },
      "outputs": [
        {
          "name": "stderr",
          "output_type": "stream",
          "text": [
            "COMET INFO: ---------------------------\n",
            "COMET INFO: Comet.ml Experiment Summary\n",
            "COMET INFO: ---------------------------\n",
            "COMET INFO:   Data:\n",
            "COMET INFO:     display_summary_level : 1\n",
            "COMET INFO:     url                   : https://www.comet.com/toonweyens/keras-image-classification/65dae46a1e2242dd9edfd24b4f4d4306\n",
            "COMET INFO:   Metrics [count] (min, max):\n",
            "COMET INFO:     accuracy [2]                 : (0.8825666904449463, 0.9405333399772644)\n",
            "COMET INFO:     batch_accuracy [94]          : (0.1015625, 0.9609375)\n",
            "COMET INFO:     batch_loss [94]              : (0.1226208284497261, 2.479597568511963)\n",
            "COMET INFO:     epoch_duration [2]           : (1.2001186270000002, 1.8067181239999996)\n",
            "COMET INFO:     loss [2]                     : (0.20852313935756683, 0.4268640875816345)\n",
            "COMET INFO:     test_accuracy                : 0.9483000040054321\n",
            "COMET INFO:     test_loss                    : 0.17422275245189667\n",
            "COMET INFO:     val_accuracy [2]             : (0.930899977684021, 0.9483000040054321)\n",
            "COMET INFO:     val_loss [2]                 : (0.17422279715538025, 0.24497465789318085)\n",
            "COMET INFO:     validate_batch_accuracy [16] : (0.9110863208770752, 0.984375)\n",
            "COMET INFO:     validate_batch_loss [16]     : (0.10554011166095734, 0.31868427991867065)\n",
            "COMET INFO:   Others:\n",
            "COMET INFO:     trainable_params : 50890\n",
            "COMET INFO:   Parameters:\n",
            "COMET INFO:     Adam_amsgrad       : False\n",
            "COMET INFO:     Adam_beta_1        : 0.9\n",
            "COMET INFO:     Adam_beta_2        : 0.999\n",
            "COMET INFO:     Adam_decay         : 0.0\n",
            "COMET INFO:     Adam_epsilon       : 1e-07\n",
            "COMET INFO:     Adam_learning_rate : 0.001\n",
            "COMET INFO:     Adam_name          : Adam\n",
            "COMET INFO:     batch_size         : 128\n",
            "COMET INFO:     epochs             : 2\n",
            "COMET INFO:     layer1_activation  : relu\n",
            "COMET INFO:     layer1_num_nodes   : 64\n",
            "COMET INFO:     layer1_type        : Dense\n",
            "COMET INFO:     optimizer          : adam\n",
            "COMET INFO:     steps              : 469\n",
            "COMET INFO:   Uploads:\n",
            "COMET INFO:     confusion-matrix         : 1\n",
            "COMET INFO:     environment details      : 1\n",
            "COMET INFO:     filename                 : 1\n",
            "COMET INFO:     git metadata             : 1\n",
            "COMET INFO:     git-patch (uncompressed) : 1 (58.87 KB)\n",
            "COMET INFO:     images                   : 100\n",
            "COMET INFO:     installed packages       : 1\n",
            "COMET INFO:     model graph              : 1\n",
            "COMET INFO:     notebook                 : 1\n",
            "COMET INFO:     source_code              : 1\n",
            "COMET INFO: ---------------------------\n",
            "COMET INFO: Uploading metrics, params, and assets to Comet before program termination (may take several seconds)\n",
            "COMET INFO: The Python SDK has 3600 seconds to finish before aborting...\n"
          ]
        }
      ],
      "source": [
        "experiment.end()"
      ]
    },
    {
      "cell_type": "code",
      "execution_count": null,
      "metadata": {},
      "outputs": [],
      "source": []
    }
  ],
  "metadata": {
    "colab": {
      "collapsed_sections": [],
      "include_colab_link": true,
      "provenance": []
    },
    "kernelspec": {
      "display_name": "Python 3.9.13 ('comet-xykBya_K')",
      "language": "python",
      "name": "python3"
    },
    "language_info": {
      "codemirror_mode": {
        "name": "ipython",
        "version": 3
      },
      "file_extension": ".py",
      "mimetype": "text/x-python",
      "name": "python",
      "nbconvert_exporter": "python",
      "pygments_lexer": "ipython3",
      "version": "3.9.13"
    },
    "vscode": {
      "interpreter": {
        "hash": "6d6d842fb6e54b9408236d63269e7fd7cf2e5749bf572172d303f17aeebef6f9"
      }
    }
  },
  "nbformat": 4,
  "nbformat_minor": 0
}
